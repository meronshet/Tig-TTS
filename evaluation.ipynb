{
 "cells": [
  {
   "cell_type": "code",
   "execution_count": 1,
   "metadata": {},
   "outputs": [
    {
     "name": "stdout",
     "output_type": "stream",
     "text": [
      "\n",
      "WARNING: The TensorFlow contrib module will not be included in TensorFlow 2.0.\n",
      "For more information, please see:\n",
      "  * https://github.com/tensorflow/community/blob/master/rfcs/20180907-contrib-sunset.md\n",
      "  * https://github.com/tensorflow/addons\n",
      "If you depend on functionality not listed there, please file an issue.\n",
      "\n"
     ]
    }
   ],
   "source": [
    "import argparse\n",
    "import os\n",
    "import re\n",
    "from .hparams import HParams as hparams, hparams_debug_string\n",
    "from synthesizer import Synthesizer"
   ]
  },
  {
   "cell_type": "code",
   "execution_count": 2,
   "metadata": {},
   "outputs": [],
   "source": [
    "sentences = [\"ምእንቲ እዚ ድማ፡ ሕብሪ ቆርበት ወድ-ሰብ ናብ ጸልሚ ገጹ የድህብ።\",\"543.\tንሕርሻ-ንጥቕምን ተባሂሎም ዝኽፈሉ መሬት ኰኑ/ብጽሒት ግብረ’መሬት ፣\"\n",
    "]"
   ]
  },
  {
   "cell_type": "code",
   "execution_count": 3,
   "metadata": {},
   "outputs": [],
   "source": [
    "def get_output_base_path(checkpoint_path):\n",
    "    base_dir = os.path.dirname(checkpoint_path)\n",
    "    m = re.compile(r'.*?\\.ckpt\\-([0-9]+)').match(checkpoint_path)\n",
    "    name = 'eval-%d' % int(m.group(1)) if m else 'eval'\n",
    "    return os.path.join(base_dir, name)\n",
    "\n",
    "\n",
    "def run_eval(args):\n",
    "    print(hparams_debug_string())\n",
    "    synth = Synthesizer()\n",
    "    synth.load(args.checkpoint)\n",
    "    base_path = get_output_base_path(args.checkpoint)\n",
    "    for i, text in enumerate(sentences):\n",
    "        path = '%s-%d.wav' % (base_path, i)\n",
    "        print('Synthesizing: %s' % path)\n",
    "        with open(path, 'wb') as f:\n",
    "            f.write(synth.synthesize(text))\n",
    "\n"
   ]
  },
  {
   "cell_type": "code",
   "execution_count": 4,
   "metadata": {},
   "outputs": [],
   "source": [
    "class Argument_eval:\n",
    "    def __init__(self):\n",
    "        self.checkpoint='C:/Users/Belsabel/Desktop/content/Drive/My Drive/-9'\n",
    "        self.hparams=''\n",
    "        \n",
    "def main():\n",
    "    args=Argument_eval()\n",
    "    os.environ['TF_CPP_MIN_LOG_LEVEL'] = '2'\n",
    "    hparams.parse(args.hparams)\n",
    "    run_eval(args)\n"
   ]
  },
  {
   "cell_type": "code",
   "execution_count": 5,
   "metadata": {},
   "outputs": [
    {
     "name": "stdout",
     "output_type": "stream",
     "text": [
      "Hyperparameters:\n",
      "  adam_beta1: 0.9\n",
      "  adam_beta2: 0.999\n",
      "  attention_depth: 256\n",
      "  batch_size: 32\n",
      "  cleaners: basic_cleaners\n",
      "  decay_learning_rate: True\n",
      "  decoder_depth: 256\n",
      "  embed_depth: 256\n",
      "  encoder_depth: 256\n",
      "  epochs: 5\n",
      "  frame_length_ms: 50\n",
      "  frame_shift_ms: 12.5\n",
      "  griffin_lim_iters: 60\n",
      "  initial_learning_rate: 0.002\n",
      "  max_iters: 200\n",
      "  min_level_db: -100\n",
      "  num_freq: 1025\n",
      "  num_mels: 80\n",
      "  outputs_per_step: 5\n",
      "  postnet_depth: 256\n",
      "  power: 1.5\n",
      "  preemphasis: 0.97\n",
      "  prenet_depths: [256, 128]\n",
      "  ref_level_db: 20\n",
      "  sample_rate: 20050\n",
      "  use_cmudict: False\n",
      "Constructing model: tacotron\n",
      "WARNING:tensorflow:From C:\\Users\\Belsabel\\Anaconda3\\envs\\tensorflowv2\\lib\\site-packages\\tensorflow\\python\\framework\\op_def_library.py:263: colocate_with (from tensorflow.python.framework.ops) is deprecated and will be removed in a future version.\n",
      "Instructions for updating:\n",
      "Colocations handled automatically by placer.\n",
      "WARNING:tensorflow:From C:\\Users\\Belsabel\\Desktop\\content\\Drive\\My Drive\\tacotron keithito\\models\\modules.py:10: dense (from tensorflow.python.layers.core) is deprecated and will be removed in a future version.\n",
      "Instructions for updating:\n",
      "Use keras.layers.dense instead.\n",
      "WARNING:tensorflow:From C:\\Users\\Belsabel\\Desktop\\content\\Drive\\My Drive\\tacotron keithito\\models\\modules.py:11: dropout (from tensorflow.python.layers.core) is deprecated and will be removed in a future version.\n",
      "Instructions for updating:\n",
      "Use keras.layers.dropout instead.\n",
      "WARNING:tensorflow:From C:\\Users\\Belsabel\\Desktop\\content\\Drive\\My Drive\\tacotron keithito\\models\\modules.py:106: conv1d (from tensorflow.python.layers.convolutional) is deprecated and will be removed in a future version.\n",
      "Instructions for updating:\n",
      "Use keras.layers.conv1d instead.\n",
      "WARNING:tensorflow:From C:\\Users\\Belsabel\\Desktop\\content\\Drive\\My Drive\\tacotron keithito\\models\\modules.py:107: batch_normalization (from tensorflow.python.layers.normalization) is deprecated and will be removed in a future version.\n",
      "Instructions for updating:\n",
      "Use keras.layers.batch_normalization instead.\n",
      "WARNING:tensorflow:From C:\\Users\\Belsabel\\Desktop\\content\\Drive\\My Drive\\tacotron keithito\\models\\modules.py:52: max_pooling1d (from tensorflow.python.layers.pooling) is deprecated and will be removed in a future version.\n",
      "Instructions for updating:\n",
      "Use keras.layers.max_pooling1d instead.\n",
      "WARNING:tensorflow:From C:\\Users\\Belsabel\\Desktop\\content\\Drive\\My Drive\\tacotron keithito\\models\\modules.py:75: GRUCell.__init__ (from tensorflow.python.ops.rnn_cell_impl) is deprecated and will be removed in a future version.\n",
      "Instructions for updating:\n",
      "This class is equivalent as tf.keras.layers.GRUCell, and will be replaced by that in Tensorflow 2.0.\n",
      "WARNING:tensorflow:From C:\\Users\\Belsabel\\Desktop\\content\\Drive\\My Drive\\tacotron keithito\\models\\modules.py:79: bidirectional_dynamic_rnn (from tensorflow.python.ops.rnn) is deprecated and will be removed in a future version.\n",
      "Instructions for updating:\n",
      "Please use `keras.layers.Bidirectional(keras.layers.RNN(cell))`, which is equivalent to this API\n",
      "WARNING:tensorflow:From C:\\Users\\Belsabel\\Anaconda3\\envs\\tensorflowv2\\lib\\site-packages\\tensorflow\\python\\ops\\rnn.py:443: dynamic_rnn (from tensorflow.python.ops.rnn) is deprecated and will be removed in a future version.\n",
      "Instructions for updating:\n",
      "Please use `keras.layers.RNN(cell)`, which is equivalent to this API\n",
      "WARNING:tensorflow:From C:\\Users\\Belsabel\\Anaconda3\\envs\\tensorflowv2\\lib\\site-packages\\tensorflow\\python\\ops\\rnn.py:626: to_int32 (from tensorflow.python.ops.math_ops) is deprecated and will be removed in a future version.\n",
      "Instructions for updating:\n",
      "Use tf.cast instead.\n",
      "WARNING:tensorflow:From C:\\Users\\Belsabel\\Desktop\\content\\Drive\\My Drive\\tacotron keithito\\models\\tacotron.py:68: MultiRNNCell.__init__ (from tensorflow.python.ops.rnn_cell_impl) is deprecated and will be removed in a future version.\n",
      "Instructions for updating:\n",
      "This class is equivalent as tf.keras.layers.StackedRNNCells, and will be replaced by that in Tensorflow 2.0.\n",
      "Initialized Tacotron model. Dimensions: \n",
      "  embedding:               256\n",
      "  prenet out:              128\n",
      "  encoder out:             256\n",
      "  attention out:           256\n",
      "  concat attn & out:       512\n",
      "  decoder cell out:        256\n",
      "  decoder out (5 frames):  400\n",
      "  decoder out (1 frame):   80\n",
      "  postnet out:             256\n",
      "  linear out:              1025\n",
      "Loading checkpoint: C:/Users/Belsabel/Desktop/content/Drive/My Drive/-9\n",
      "WARNING:tensorflow:From C:\\Users\\Belsabel\\Anaconda3\\envs\\tensorflowv2\\lib\\site-packages\\tensorflow\\python\\training\\saver.py:1266: checkpoint_exists (from tensorflow.python.training.checkpoint_management) is deprecated and will be removed in a future version.\n",
      "Instructions for updating:\n",
      "Use standard file APIs to check for files with this prefix.\n",
      "INFO:tensorflow:Restoring parameters from C:/Users/Belsabel/Desktop/content/Drive/My Drive/-9\n",
      "Synthesizing: C:/Users/Belsabel/Desktop/content/Drive/My Drive\\eval-0.wav\n",
      "Synthesizing: C:/Users/Belsabel/Desktop/content/Drive/My Drive\\eval-1.wav\n"
     ]
    }
   ],
   "source": [
    "if __name__ == '__main__':\n",
    "    main()"
   ]
  }
 ],
 "metadata": {
  "kernelspec": {
   "display_name": "Python 3",
   "language": "python",
   "name": "python3"
  },
  "language_info": {
   "codemirror_mode": {
    "name": "ipython",
    "version": 3
   },
   "file_extension": ".py",
   "mimetype": "text/x-python",
   "name": "python",
   "nbconvert_exporter": "python",
   "pygments_lexer": "ipython3",
   "version": "3.7.3"
  }
 },
 "nbformat": 4,
 "nbformat_minor": 2
}
