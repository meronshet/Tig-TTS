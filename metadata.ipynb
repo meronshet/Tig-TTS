{
 "cells": [
  {
   "cell_type": "code",
   "execution_count": 6,
   "metadata": {},
   "outputs": [],
   "source": [
    "import librosa\n",
    "import csv\n",
    "from util import audio\n",
    "import textpreprocessor\n",
    "from textpreprocessor import *"
   ]
  },
  {
   "cell_type": "code",
   "execution_count": 18,
   "metadata": {},
   "outputs": [],
   "source": [
    "Desktop_path='C:/Users/Belsabel/Desktop'\n",
    "f=open(Desktop_path+'/content/Drive/My Drive/audio_book_metadata.csv','r',encoding=\"UTF-8\")"
   ]
  },
  {
   "cell_type": "code",
   "execution_count": 5,
   "metadata": {},
   "outputs": [],
   "source": [
    "writer=csv.writer(f)\n",
    "csv_length=1\n",
    "def build_metadata_csv(text_file,audio_file,writer):\n",
    "    text_file=open(text_file,'r',encoding=\"UTF-8\")\n",
    "    text=text_file.read()\n",
    "    sentences=text.split(\"\\n\")\n",
    "    print(len(sentences))\n",
    "    normalizer=Normalizer.Normalizer()\n",
    "    text=normalizer.normalize(text)\n",
    "    sentences=text.split(\"\\n\")\n",
    "    print(len(sentences))\n",
    "    j=1\n",
    "    for i in sentences:\n",
    "        if(j<10):\n",
    "            file_name=audio_file+'-0'+str(j)+\".wav\"\n",
    "        else:\n",
    "            file_name=audio_file+'-'+str(j)+\".wav\"\n",
    "        x=librosa.core.load(Desktop_path+'/content/Drive/My Drive/audio book dataset/audio/'+file_name)\n",
    "        length=librosa.core.get_duration(x[0])\n",
    "        writer.writerow([file_name,format(length, '.2f'),length,i])\n",
    "        j+=1\n",
    "    return len(sentences)"
   ]
  },
  {
   "cell_type": "code",
   "execution_count": 6,
   "metadata": {},
   "outputs": [],
   "source": [
    "all_lines=0"
   ]
  },
  {
   "cell_type": "code",
   "execution_count": 10,
   "metadata": {
    "scrolled": false
   },
   "outputs": [
    {
     "name": "stdout",
     "output_type": "stream",
     "text": [
      "1493\n",
      "1493\n"
     ]
    }
   ],
   "source": [
    "all_lines+=build_metadata_csv(\"eta manifesto.txt\",\"eta_manifesto\",writer)"
   ]
  },
  {
   "cell_type": "code",
   "execution_count": 13,
   "metadata": {},
   "outputs": [
    {
     "name": "stdout",
     "output_type": "stream",
     "text": [
      "1438\n",
      "1438\n"
     ]
    }
   ],
   "source": [
    "all_lines+=build_metadata_csv(\"klte qne ab dfeat.txt\",\"ab_dfeat\",writer)"
   ]
  },
  {
   "cell_type": "code",
   "execution_count": 8,
   "metadata": {},
   "outputs": [
    {
     "name": "stdout",
     "output_type": "stream",
     "text": [
      "1711\n",
      "1711\n"
     ]
    }
   ],
   "source": [
    "all_lines+=build_metadata_csv(\"babylon.txt\",\"babylon\",writer)"
   ]
  },
  {
   "cell_type": "code",
   "execution_count": 9,
   "metadata": {},
   "outputs": [
    {
     "name": "stdout",
     "output_type": "stream",
     "text": [
      "1089\n",
      "1089\n"
     ]
    }
   ],
   "source": [
    "all_lines+=build_metadata_csv(\"eskrna talyan.txt\",\"eskrna_talyan\",writer)"
   ]
  },
  {
   "cell_type": "code",
   "execution_count": 14,
   "metadata": {},
   "outputs": [
    {
     "name": "stdout",
     "output_type": "stream",
     "text": [
      "1780\n",
      "1780\n"
     ]
    }
   ],
   "source": [
    "all_lines+=build_metadata_csv(\"loukat satnaiel.txt\",\"loukat_satnaiel\",writer)"
   ]
  },
  {
   "cell_type": "code",
   "execution_count": 15,
   "metadata": {},
   "outputs": [
    {
     "name": "stdout",
     "output_type": "stream",
     "text": [
      "959\n",
      "959\n"
     ]
    }
   ],
   "source": [
    "all_lines+=build_metadata_csv(\"hade zanta.txt\",\"hade_zanta\",writer)"
   ]
  },
  {
   "cell_type": "code",
   "execution_count": 16,
   "metadata": {},
   "outputs": [
    {
     "name": "stdout",
     "output_type": "stream",
     "text": [
      "2506\n",
      "2506\n"
     ]
    }
   ],
   "source": [
    "all_lines+=build_metadata_csv(\"mereb mlash.txt\",\"mereb_mlash\",writer)"
   ]
  },
  {
   "cell_type": "code",
   "execution_count": 17,
   "metadata": {},
   "outputs": [
    {
     "name": "stdout",
     "output_type": "stream",
     "text": [
      "12687\n"
     ]
    }
   ],
   "source": [
    "print(all_lines)\n",
    "f.close()"
   ]
  },
  {
   "cell_type": "code",
   "execution_count": null,
   "metadata": {},
   "outputs": [],
   "source": []
  }
 ],
 "metadata": {
  "kernelspec": {
   "display_name": "Python 3",
   "language": "python",
   "name": "python3"
  },
  "language_info": {
   "codemirror_mode": {
    "name": "ipython",
    "version": 3
   },
   "file_extension": ".py",
   "mimetype": "text/x-python",
   "name": "python",
   "nbconvert_exporter": "python",
   "pygments_lexer": "ipython3",
   "version": "3.10.13"
  }
 },
 "nbformat": 4,
 "nbformat_minor": 2
}
