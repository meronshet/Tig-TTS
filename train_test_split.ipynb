{
 "cells": [
  {
   "cell_type": "code",
   "execution_count": 7,
   "id": "0c13e251-35e0-4621-b1dc-debcf0fec88e",
   "metadata": {},
   "outputs": [
    {
     "name": "stdout",
     "output_type": "stream",
     "text": [
      "11639\n",
      "1000\n",
      "2000\n",
      "3000\n",
      "4000\n",
      "5000\n",
      "6000\n",
      "7000\n",
      "8000\n",
      "9000\n",
      "10000\n",
      "11000\n"
     ]
    }
   ],
   "source": [
    "#8496\n",
    "project_path = os.path.expanduser(os.path.join(\"~\", \"Desktop\", \"commercialProject\", \"tacotron\"))\n",
    "from datasets import ljspeech\n",
    "from textpreprocessor import Normalizer\n",
    "project_path='c:\\\\Users\\\\SHETIZ\\\\Desktop\\\\commercialProject\\\\tacotron'\n",
    "training_file=open(project_path+ '\\\\train_1st.txt', \"w\", encoding=\"UTF-8\")\n",
    "testing_file=open(project_path+ '\\\\test_1st.txt', \"w\", encoding=\"UTF-8\")\n",
    "meta_data=open(project_path+\"\\\\training_data\\\\new_metadata.txt\",\"r\",encoding=\"UTF-8\")\n",
    "text=meta_data.read()\n",
    "entries=text.split(\"\\n\")\n",
    "all_speech=len(entries)\n",
    "print(all_speech)\n",
    "i=1\n",
    "testing_percent=2\n",
    "fold=100\n",
    "test_data_per_fold=int(fold*(2/100))\n",
    "i = 1\n",
    "for j in entries: \n",
    "    if(i%1000==0):\n",
    "        print(i)\n",
    "    list_of_i=j.split(\"|\")\n",
    "    if (float(list_of_i[1])<=8): #and i>=8496):\n",
    "        if (i%fold<=test_data_per_fold):\n",
    "            ;\n",
    "            testing_file.write(str(list_of_i[2])+\"|\"+str(list_of_i[0])+\"\\n\")\n",
    "        else:\n",
    "            #tu_audio=ljspeech._process_utterance(log_dir = os.path.join(project_path, \"training_data\"),i,project_path+'\\\\data\\\\audio\\\\'+str(list_of_i[0]),str(list_of_i[2]))\n",
    "            #training_file.write(tu_audio[0]+\"|\"+tu_audio[1]+\"|\"+str(tu_audio[2])+\"|\"+tu_audio[3]+\"\\n\")\n",
    "            ;\n",
    "    i=i+1\n",
    "meta_data.close()\n",
    "training_file.close()"
   ]
  },
  {
   "cell_type": "code",
   "execution_count": null,
   "id": "8cf6bde1",
   "metadata": {},
   "outputs": [],
   "source": [
    "!mkdir training_data"
   ]
  },
  {
   "cell_type": "code",
   "execution_count": 4,
   "id": "c8105a5f",
   "metadata": {},
   "outputs": [],
   "source": [
    "import os\n",
    "project_path = os.path.expanduser(os.path.join(\"~\", \"Desktop\", \"commercialProject\", \"tacotron\"))"
   ]
  }
 ],
 "metadata": {
  "kernelspec": {
   "display_name": "Python 3 (ipykernel)",
   "language": "python",
   "name": "python3"
  },
  "language_info": {
   "codemirror_mode": {
    "name": "ipython",
    "version": 3
   },
   "file_extension": ".py",
   "mimetype": "text/x-python",
   "name": "python",
   "nbconvert_exporter": "python",
   "pygments_lexer": "ipython3",
   "version": "3.7.12"
  }
 },
 "nbformat": 4,
 "nbformat_minor": 5
}
