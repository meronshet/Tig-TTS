{
 "cells": [
  {
   "cell_type": "code",
   "execution_count": 1,
   "metadata": {},
   "outputs": [
    {
     "name": "stdout",
     "output_type": "stream",
     "text": [
      "WARNING:tensorflow:From c:\\Users\\SHETIZ\\anaconda3\\envs\\tensor1\\lib\\site-packages\\keras\\src\\losses.py:2976: The name tf.losses.sparse_softmax_cross_entropy is deprecated. Please use tf.compat.v1.losses.sparse_softmax_cross_entropy instead.\n",
      "\n",
      "success\n"
     ]
    }
   ],
   "source": [
    "from datasets import ljspeech\n",
    "from textpreprocessor import Normalizer\n",
    "import csv\n",
    "print(\"success\")"
   ]
  },
  {
   "cell_type": "code",
   "execution_count": 1,
   "metadata": {},
   "outputs": [
    {
     "ename": "SyntaxError",
     "evalue": "expected ':' (3295884327.py, line 5)",
     "output_type": "error",
     "traceback": [
      "\u001b[1;36m  Cell \u001b[1;32mIn[1], line 5\u001b[1;36m\u001b[0m\n\u001b[1;33m    while()\u001b[0m\n\u001b[1;37m           ^\u001b[0m\n\u001b[1;31mSyntaxError\u001b[0m\u001b[1;31m:\u001b[0m expected ':'\n"
     ]
    }
   ],
   "source": [
    "project_path='c:\\\\Users\\\\SHETIZ\\\\Desktop\\\\commercialProject\\\\tacotron'\n",
    "file=open(project_path+\"\\\\data\\\\audio_book_metadata.csv\",\"r\",encoding=\"UTF-8\")\n",
    "reader=csv.reader(file)\n",
    "training_file=open(f'{project_path}\\\\train.text', \"w\", encoding=\"UTf-8\")\n",
    "norm=Normalizer.Normalizer()\n",
    "while(i<=len(sentences)):\n",
    "    print(i)\n",
    "    text=norm.normalize(sentences[i-1])\n",
    "    if(i<10):\n",
    "        tu_audio=ljspeech._process_utterance(\"tts_2021/social-spec\",i, \"C:/Users\\Belsabel\\Desktop/utterances\\social-16 PCM\\social-0\"+str(i)+\".wav\",text)\n",
    "    else:\n",
    "        tu_audio=ljspeech._process_utterance(\"tts_2021/social-spec\",i, \"C:/Users\\Belsabel\\Desktop/utterances\\social-16 PCM\\social-\"+str(i)+\".wav\",text)\n",
    "    i=i+1\n",
    "    training_file.write(tu_audio[0]+\"|\"+tu_audio[1]+\"|\"+str(tu_audio[2])+\"|\"+tu_audio[3])"
   ]
  },
  {
   "cell_type": "code",
   "execution_count": null,
   "metadata": {},
   "outputs": [],
   "source": []
  }
 ],
 "metadata": {
  "kernelspec": {
   "display_name": "Python 3",
   "language": "python",
   "name": "python3"
  },
  "language_info": {
   "codemirror_mode": {
    "name": "ipython",
    "version": 3
   },
   "file_extension": ".py",
   "mimetype": "text/x-python",
   "name": "python",
   "nbconvert_exporter": "python",
   "pygments_lexer": "ipython3",
   "version": "3.10.13"
  }
 },
 "nbformat": 4,
 "nbformat_minor": 2
}
